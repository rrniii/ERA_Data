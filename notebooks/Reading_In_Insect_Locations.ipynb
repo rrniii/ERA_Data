{
 "cells": [
  {
   "cell_type": "code",
   "execution_count": 64,
   "metadata": {},
   "outputs": [],
   "source": [
    "import pandas as pd\n",
    "import numpy as np"
   ]
  },
  {
   "cell_type": "code",
   "execution_count": 65,
   "metadata": {},
   "outputs": [],
   "source": [
    "import math\n",
    "def quarter_up(x):\n",
    "    return math.ceil(x*4)/4\n",
    "def quarter_down(x):\n",
    "    return math.floor(x*4)/4"
   ]
  },
  {
   "cell_type": "code",
   "execution_count": 66,
   "metadata": {},
   "outputs": [],
   "source": [
    "file='/Volumes/Neely/BioDAR/ERA5/sites of light and suction traps.xlsx'"
   ]
  },
  {
   "cell_type": "code",
   "execution_count": 76,
   "metadata": {},
   "outputs": [],
   "source": [
    "light_traps = pd.read_excel(file, header=0, sheet_name='Light traps')\n",
    "number_of_traps = len(light_traps['Lat'])\n",
    "areas = []\n",
    "trap_name = []\n",
    "for a in range(0, number_of_traps):\n",
    "    lats = [quarter_up(light_traps['Lat'][a]), quarter_down(light_traps['Lat'][a])]\n",
    "    longs = [quarter_up(light_traps['Long'][a]), quarter_down(light_traps['Long'][a])]\n",
    "    areas.append([max(lats), min(longs), min(lats), max(longs)])\n",
    "    trap_name.append(light_traps['Trap name'][a].replace(\" \", \"_\"))"
   ]
  },
  {
   "cell_type": "code",
   "execution_count": 15,
   "metadata": {},
   "outputs": [
    {
     "data": {
      "text/plain": [
       "51.0"
      ]
     },
     "execution_count": 15,
     "metadata": {},
     "output_type": "execute_result"
    }
   ],
   "source": [
    "quarter_up(light_traps['Lat'][0])\n",
    "quarter_down(light_traps['Lat'][0])"
   ]
  },
  {
   "cell_type": "code",
   "execution_count": 18,
   "metadata": {},
   "outputs": [
    {
     "name": "stdout",
     "output_type": "stream",
     "text": [
      "51.25 -0.75 51.0 -1.0\n"
     ]
    }
   ],
   "source": [
    "print(quarter_up(light_traps['Lat'][0]),\n",
    "      quarter_up(light_traps['Long'][0]),\n",
    "      quarter_down(light_traps['Lat'][0]), \n",
    "      quarter_down(light_traps['Long'][0]))"
   ]
  },
  {
   "cell_type": "code",
   "execution_count": 42,
   "metadata": {},
   "outputs": [],
   "source": []
  },
  {
   "cell_type": "code",
   "execution_count": 70,
   "metadata": {},
   "outputs": [
    {
     "data": {
      "text/plain": [
       "'Allotments'"
      ]
     },
     "execution_count": 70,
     "metadata": {},
     "output_type": "execute_result"
    }
   ],
   "source": [
    "light_traps['Trap name'][1]"
   ]
  },
  {
   "cell_type": "code",
   "execution_count": 74,
   "metadata": {},
   "outputs": [
    {
     "data": {
      "text/plain": [
       "['Alice_Holt',\n",
       " 'Allotments',\n",
       " 'Auchincruive_II',\n",
       " 'Barnfield',\n",
       " 'Brooms_Barn',\n",
       " 'Geescroft_I',\n",
       " 'Hereford',\n",
       " 'Kindrogan',\n",
       " 'Malham_Tarn',\n",
       " 'Orielton',\n",
       " 'Rowardennan',\n",
       " 'Starcross',\n",
       " 'Westonbirt',\n",
       " 'Wisley_II',\n",
       " 'Wykeham',\n",
       " 'Beinn_Eighe_I',\n",
       " 'Bentley_Wood',\n",
       " 'Brodick',\n",
       " 'Castle_Eden_Dene_II',\n",
       " 'Castle_Eden_Dene_l',\n",
       " 'Cockayne_Hatley',\n",
       " 'Forest-in-Teesdale',\n",
       " 'Perry_Wood',\n",
       " 'Preston_Montford_II',\n",
       " 'Shildon',\n",
       " 'Tregaron',\n",
       " 'Arne',\n",
       " 'Drayton',\n",
       " 'Eaton_Bray_ll',\n",
       " 'Fota',\n",
       " 'Glencoe',\n",
       " 'Hillsborough',\n",
       " 'Jersey_II',\n",
       " 'Lammi',\n",
       " 'Loddington',\n",
       " 'North_Wyke',\n",
       " 'Pennerley',\n",
       " 'Sourhope',\n",
       " 'Wytham_III']"
      ]
     },
     "execution_count": 74,
     "metadata": {},
     "output_type": "execute_result"
    }
   ],
   "source": [
    "trap_name"
   ]
  },
  {
   "cell_type": "code",
   "execution_count": 75,
   "metadata": {},
   "outputs": [
    {
     "data": {
      "text/plain": [
       "[[51.25, -1.0, 51.0, -0.75],\n",
       " [52.0, -0.5, 51.75, -0.25],\n",
       " [55.5, -4.75, 55.25, -4.5],\n",
       " [52.0, -0.5, 51.75, -0.25],\n",
       " [52.5, 0.5, 52.25, 0.75],\n",
       " [52.0, -0.5, 51.75, -0.25],\n",
       " [52.25, -2.75, 52.0, -2.5],\n",
       " [56.75, -3.75, 56.5, -3.5],\n",
       " [54.25, -2.25, 54.0, -2.0],\n",
       " [51.75, -5.0, 51.5, -4.75],\n",
       " [56.25, -4.75, 56.0, -4.5],\n",
       " [50.75, -3.5, 50.5, -3.25],\n",
       " [51.75, -2.25, 51.5, -2.0],\n",
       " [51.5, -0.5, 51.25, -0.25],\n",
       " [54.5, -0.75, 54.25, -0.5],\n",
       " [57.75, -5.5, 57.5, -5.25],\n",
       " [51.25, -1.75, 51.0, -1.5],\n",
       " [55.75, -5.25, 55.5, -5.0],\n",
       " [54.75, -1.5, 54.5, -1.25],\n",
       " [54.75, -1.5, 54.5, -1.25],\n",
       " [52.25, -0.25, 52.0, 0.0],\n",
       " [54.75, -2.25, 54.5, -2.0],\n",
       " [51.5, 0.75, 51.25, 1.0],\n",
       " [52.75, -3.0, 52.5, -2.75],\n",
       " [54.75, -1.75, 54.5, -1.5],\n",
       " [52.25, -4.0, 52.0, -3.75],\n",
       " [50.75, -2.25, 50.5, -2.0],\n",
       " [52.25, -2.0, 52.0, -1.75],\n",
       " [52.0, -0.75, 51.75, -0.5],\n",
       " [52.0, -8.5, 51.75, -8.25],\n",
       " [56.75, -5.25, 56.5, -5.0],\n",
       " [54.5, -6.25, 54.25, -6.0],\n",
       " [49.25, -2.25, 49.0, -2.0],\n",
       " [61.25, 25.0, 61.0, 25.25],\n",
       " [52.75, -1.0, 52.5, -0.75],\n",
       " [51.0, -4.0, 50.75, -3.75],\n",
       " [52.75, -3.0, 52.5, -2.75],\n",
       " [55.5, -2.25, 55.25, -2.0],\n",
       " [52.0, -1.5, 51.75, -1.25]]"
      ]
     },
     "execution_count": 75,
     "metadata": {},
     "output_type": "execute_result"
    }
   ],
   "source": [
    "area"
   ]
  },
  {
   "cell_type": "code",
   "execution_count": null,
   "metadata": {},
   "outputs": [],
   "source": []
  }
 ],
 "metadata": {
  "kernelspec": {
   "display_name": "Python 3",
   "language": "python",
   "name": "python3"
  },
  "language_info": {
   "codemirror_mode": {
    "name": "ipython",
    "version": 3
   },
   "file_extension": ".py",
   "mimetype": "text/x-python",
   "name": "python",
   "nbconvert_exporter": "python",
   "pygments_lexer": "ipython3",
   "version": "3.7.6"
  }
 },
 "nbformat": 4,
 "nbformat_minor": 4
}
